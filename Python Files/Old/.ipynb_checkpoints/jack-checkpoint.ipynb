{
 "cells": [
  {
   "cell_type": "markdown",
   "id": "6592f10a",
   "metadata": {},
   "source": [
    "### Dart Region Segmentation using SAM\n",
    "##### General idea is to create a tool for segmentation of board regions and/or darts"
   ]
  },
  {
   "cell_type": "code",
   "execution_count": 12,
   "id": "1c4ad17a",
   "metadata": {},
   "outputs": [
    {
     "name": "stdout",
     "output_type": "stream",
     "text": [
      "Requirement already satisfied: opencv-python in c:\\users\\jdmas\\desktop\\spring_2025\\cs 445\\env\\lib\\site-packages (4.11.0.86)\n",
      "Requirement already satisfied: numpy>=1.21.2 in c:\\users\\jdmas\\desktop\\spring_2025\\cs 445\\env\\lib\\site-packages (from opencv-python) (2.2.3)\n",
      "Note: you may need to restart the kernel to use updated packages.\n",
      "Note: you may need to restart the kernel to use updated packages.\n"
     ]
    },
    {
     "name": "stderr",
     "output_type": "stream",
     "text": [
      "ERROR: Could not find a version that satisfies the requirement os (from versions: none)\n",
      "ERROR: No matching distribution found for os\n"
     ]
    },
    {
     "name": "stdout",
     "output_type": "stream",
     "text": [
      "Requirement already satisfied: numpy in c:\\users\\jdmas\\desktop\\spring_2025\\cs 445\\env\\lib\\site-packages (2.2.3)\n",
      "Note: you may need to restart the kernel to use updated packages.\n",
      "Requirement already satisfied: segment_anything in c:\\users\\jdmas\\desktop\\spring_2025\\cs 445\\env\\lib\\site-packages (1.0)\n",
      "Note: you may need to restart the kernel to use updated packages.\n",
      "Looking in indexes: https://pypi.org/simple, https://download.pytorch.org/whl/cu118\n",
      "Requirement already satisfied: torch in c:\\users\\jdmas\\desktop\\spring_2025\\cs 445\\env\\lib\\site-packages (2.7.0+cu118)\n",
      "Requirement already satisfied: torchvision in c:\\users\\jdmas\\desktop\\spring_2025\\cs 445\\env\\lib\\site-packages (0.22.0)\n",
      "Requirement already satisfied: filelock in c:\\users\\jdmas\\desktop\\spring_2025\\cs 445\\env\\lib\\site-packages (from torch) (3.18.0)\n",
      "Requirement already satisfied: typing-extensions>=4.10.0 in c:\\users\\jdmas\\desktop\\spring_2025\\cs 445\\env\\lib\\site-packages (from torch) (4.12.2)\n",
      "Requirement already satisfied: sympy>=1.13.3 in c:\\users\\jdmas\\desktop\\spring_2025\\cs 445\\env\\lib\\site-packages (from torch) (1.14.0)\n",
      "Requirement already satisfied: networkx in c:\\users\\jdmas\\desktop\\spring_2025\\cs 445\\env\\lib\\site-packages (from torch) (3.4.2)\n",
      "Requirement already satisfied: jinja2 in c:\\users\\jdmas\\desktop\\spring_2025\\cs 445\\env\\lib\\site-packages (from torch) (3.1.5)\n",
      "Requirement already satisfied: fsspec in c:\\users\\jdmas\\desktop\\spring_2025\\cs 445\\env\\lib\\site-packages (from torch) (2025.3.2)\n",
      "Requirement already satisfied: setuptools in c:\\users\\jdmas\\desktop\\spring_2025\\cs 445\\env\\lib\\site-packages (from torch) (75.8.0)\n",
      "Requirement already satisfied: numpy in c:\\users\\jdmas\\desktop\\spring_2025\\cs 445\\env\\lib\\site-packages (from torchvision) (2.2.3)\n",
      "Requirement already satisfied: pillow!=8.3.*,>=5.3.0 in c:\\users\\jdmas\\desktop\\spring_2025\\cs 445\\env\\lib\\site-packages (from torchvision) (11.1.0)\n",
      "Requirement already satisfied: mpmath<1.4,>=1.1.0 in c:\\users\\jdmas\\desktop\\spring_2025\\cs 445\\env\\lib\\site-packages (from sympy>=1.13.3->torch) (1.3.0)\n",
      "Requirement already satisfied: MarkupSafe>=2.0 in c:\\users\\jdmas\\desktop\\spring_2025\\cs 445\\env\\lib\\site-packages (from jinja2->torch) (3.0.2)\n",
      "Note: you may need to restart the kernel to use updated packages.\n"
     ]
    }
   ],
   "source": [
    "%pip install opencv-python\n",
    "%pip install os\n",
    "%pip install numpy\n",
    "%pip install segment_anything\n",
    "%pip install torch torchvision --extra-index-url https://download.pytorch.org/whl/cu118\n",
    "\n",
    "import os\n",
    "import cv2\n",
    "import numpy as np\n",
    "from segment_anything import SamPredictor, sam_model_registry, SamAutomaticMaskGenerator"
   ]
  },
  {
   "cell_type": "code",
   "execution_count": 54,
   "id": "e2a322be",
   "metadata": {},
   "outputs": [],
   "source": [
    "def get_mask_for_point(image_path, point, model_type=\"default\", checkpoint_path=None):\n",
    "    try:\n",
    "        # Load SAM model\n",
    "        if not os.path.exists(checkpoint_path):\n",
    "            raise FileNotFoundError(f\"Checkpoint file not found at: {checkpoint_path}\")\n",
    "        sam = sam_model_registry[model_type](checkpoint=checkpoint_path)\n",
    "        predictor = SamPredictor(sam)\n",
    "\n",
    "        # Load/set img\n",
    "        image = cv2.imread(image_path)\n",
    "        image = cv2.cvtColor(image, cv2.COLOR_BGR2RGB)\n",
    "        predictor.set_image(image)\n",
    "\n",
    "        # Generate mask\n",
    "        input_point = np.array([point])\n",
    "        input_label = np.array([1])  # For foreground\n",
    "        masks, _, _ = predictor.predict(\n",
    "            point_coords=input_point,\n",
    "            point_labels=input_label,\n",
    "            multimask_output=False,  # Return only the best mask\n",
    "        )\n",
    "        return masks[0]  # Return the first mask (best mask)\n",
    "\n",
    "    except Exception as e:\n",
    "        print(f\"Error: {e}\")\n",
    "        return None"
   ]
  },
  {
   "cell_type": "code",
   "execution_count": 55,
   "id": "62e7180d",
   "metadata": {},
   "outputs": [
    {
     "name": "stdout",
     "output_type": "stream",
     "text": [
      "Mask shape: (2000, 2000)\n"
     ]
    }
   ],
   "source": [
    "# Example usage\n",
    "image_path = \"test.jpg\"\n",
    "checkpoint_path_small = \"sam_vit_b_01ec64.pth\"\n",
    "point = (1000, 1000) \n",
    "\n",
    "mask = get_mask_for_point(image_path, point, model_type=\"vit_b\", checkpoint_path=checkpoint_path_small)\n",
    "\n",
    "if mask is not None:\n",
    "    print(\"Mask shape:\", mask.shape)\n",
    "    # You can further process or display the mask here.  For example:\n",
    "    import matplotlib.pyplot as plt\n",
    "    image = cv2.imread(image_path)\n",
    "    image = cv2.cvtColor(image, cv2.COLOR_BGR2RGB)\n",
    "\n",
    "    plt.figure()\n",
    "    plt.imshow(image)\n",
    "    plt.imshow(mask, cmap='gray', alpha=0.5)  # Overlay the mask\n",
    "    plt.scatter(point[0], point[1], c='red', s=10) # added line\n",
    "    plt.title('Image with Mask Overlay')\n",
    "    plt.show()\n",
    "\n",
    "else: print(\"Failed to generate mask.\")"
   ]
  }
 ],
 "metadata": {
  "kernelspec": {
   "display_name": "env",
   "language": "python",
   "name": "python3"
  },
  "language_info": {
   "codemirror_mode": {
    "name": "ipython",
    "version": 3
   },
   "file_extension": ".py",
   "mimetype": "text/x-python",
   "name": "python",
   "nbconvert_exporter": "python",
   "pygments_lexer": "ipython3",
   "version": "3.13.3"
  }
 },
 "nbformat": 4,
 "nbformat_minor": 5
}
