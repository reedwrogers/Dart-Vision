{
 "cells": [
  {
   "cell_type": "markdown",
   "id": "b883f0a9",
   "metadata": {},
   "source": [
    "## Main File for Project! All important functions are here"
   ]
  },
  {
   "cell_type": "markdown",
   "id": "3d33acc5",
   "metadata": {},
   "source": [
    "#### Jack Cells / Helpers"
   ]
  },
  {
   "cell_type": "code",
   "execution_count": null,
   "id": "6c89200d",
   "metadata": {},
   "outputs": [],
   "source": [
    "%pip install opencv-python\n",
    "%pip install os\n",
    "%pip install numpy\n",
    "%pip install segment_anything\n",
    "%pip install torch torchvision --extra-index-url https://download.pytorch.org/whl/cu118\n",
    "\n",
    "import os\n",
    "import cv2\n",
    "import numpy as np\n",
    "from segment_anything import SamPredictor, sam_model_registry, SamAutomaticMaskGenerator"
   ]
  },
  {
   "cell_type": "code",
   "execution_count": null,
   "id": "3bdc19d9",
   "metadata": {},
   "outputs": [],
   "source": [
    "def get_mask_for_point(image_path, point, model_type=\"default\", checkpoint_path=None):\n",
    "    try:\n",
    "        # Load SAM model\n",
    "        if not os.path.exists(checkpoint_path):\n",
    "            raise FileNotFoundError(f\"Checkpoint file not found at: {checkpoint_path}\")\n",
    "        sam = sam_model_registry[model_type](checkpoint=checkpoint_path)\n",
    "        predictor = SamPredictor(sam)\n",
    "\n",
    "        # Load/set img\n",
    "        image = cv2.imread(image_path)\n",
    "        image = cv2.cvtColor(image, cv2.COLOR_BGR2RGB)\n",
    "        predictor.set_image(image)\n",
    "\n",
    "        # Generate mask\n",
    "        input_point = np.array([point])\n",
    "        input_label = np.array([1])  # For foreground\n",
    "        masks, _, _ = predictor.predict(\n",
    "            point_coords=input_point,\n",
    "            point_labels=input_label,\n",
    "            multimask_output=False,  # Return only the best mask\n",
    "        )\n",
    "        return masks[0]  # Return the first mask (best mask)\n",
    "\n",
    "    except Exception as e:\n",
    "        print(f\"Error: {e}\")\n",
    "        return None"
   ]
  },
  {
   "cell_type": "code",
   "execution_count": null,
   "id": "4d95acc6",
   "metadata": {},
   "outputs": [],
   "source": [
    "# Example usage\n",
    "image_path = \"test.jpg\"\n",
    "checkpoint_path_small = \"sam_vit_b_01ec64.pth\"\n",
    "point = (1000, 1000) \n",
    "\n",
    "mask = get_mask_for_point(image_path, point, model_type=\"vit_b\", checkpoint_path=checkpoint_path_small)\n",
    "\n",
    "if mask is not None:\n",
    "    print(\"Mask shape:\", mask.shape)\n",
    "    # You can further process or display the mask here.  For example:\n",
    "    import matplotlib.pyplot as plt\n",
    "    image = cv2.imread(image_path)\n",
    "    image = cv2.cvtColor(image, cv2.COLOR_BGR2RGB)\n",
    "\n",
    "    plt.figure()\n",
    "    plt.imshow(image)\n",
    "    plt.imshow(mask, cmap='gray', alpha=0.5)  # Overlay the mask\n",
    "    plt.scatter(point[0], point[1], c='red', s=10) # added line\n",
    "    plt.title('Image with Mask Overlay')\n",
    "    plt.show()\n",
    "\n",
    "else: print(\"Failed to generate mask.\")"
   ]
  }
 ],
 "metadata": {
  "kernelspec": {
   "display_name": "env",
   "language": "python",
   "name": "python3"
  },
  "language_info": {
   "name": "python",
   "version": "3.13.3"
  }
 },
 "nbformat": 4,
 "nbformat_minor": 5
}
